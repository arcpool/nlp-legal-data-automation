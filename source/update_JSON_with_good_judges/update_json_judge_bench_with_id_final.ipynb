{
 "cells": [
  {
   "cell_type": "raw",
   "metadata": {},
   "source": [
    "What does it do: Updates supreme court/hight court json files with the right judge name and corresponding judge id. Also updates bench names with corresponding bench ids.\n",
    "\n",
    "input : \n",
    "1) Judge validation name JSON file (specific to the court)\n",
    "2) Bench validation names JSON file (specific to the court)\n",
    "3) Judges' ids JSON file (specific to the court) -- for Judge and bench\n",
    "\n",
    "output : updated json files with correct names and ids"
   ]
  },
  {
   "cell_type": "code",
   "execution_count": null,
   "metadata": {},
   "outputs": [],
   "source": [
    "# input :\n",
    "# 1) Judge validation name JSON file (specific to the court)\n",
    "# 2) Bench validation names JSON file (specific to the court)\n",
    "# 3) Judges' ids JSON file (specific to the court) -- for Judge and bench\n",
    "\n",
    "# output : updated json files with correct names and ids"
   ]
  },
  {
   "cell_type": "code",
   "execution_count": 3,
   "metadata": {},
   "outputs": [],
   "source": [
    "import json\n",
    "import pandas as pd\n",
    "import numpy as np\n",
    "import path \n",
    "import glob\n",
    "import os.path\n",
    "from pathlib import Path\n",
    "from tqdm import tqdm\n",
    "import datetime\n",
    "from fuzzywuzzy import fuzz\n",
    "from fuzzywuzzy import process"
   ]
  },
  {
   "cell_type": "code",
   "execution_count": 4,
   "metadata": {},
   "outputs": [],
   "source": [
    "def read_json(json_file):  \n",
    "    with open(Path(json_file),\"r\") as input_file:\n",
    "        json_case = json.load(input_file)\n",
    "        \n",
    "    return json_case "
   ]
  },
  {
   "cell_type": "code",
   "execution_count": 5,
   "metadata": {},
   "outputs": [],
   "source": [
    "metadata_path = '/Users/arya/Desktop/goodBadJudges' # change path here \n",
    "\n",
    "with open(metadata_path+\"/\"+\"/\"+\"judgelink_vdate.json\", \"r\") as outfile:\n",
    "    judgeinfo = json.load(outfile)\n",
    "    \n",
    "with open(metadata_path+\"/\"+\"/\"+\"benchlink_vdate.json\", \"r\") as outfile:\n",
    "    benchinfo = json.load(outfile)\n",
    "    \n",
    "# with open(metadata_path+\"/\"+\"/\"+\"goodjudges_punjab_haryana.json\", \"r\") as outfile:\n",
    "#     gdjudges = json.load(outfile)\n",
    "    \n",
    "with open(metadata_path+\"/\"+\"/\"+\"punjab_haryana.json\", \"r\") as outfile:\n",
    "    judge_ids = json.load(outfile)"
   ]
  },
  {
   "cell_type": "code",
   "execution_count": 8,
   "metadata": {},
   "outputs": [],
   "source": [
    "path ='/Users/arya/Desktop/goodBadJudges/data' # change path here \n",
    "\n",
    "emptycount = 0\n",
    "texts = []\n",
    "for court in os.listdir(path):\n",
    "    if not court.endswith(\".zip\"):\n",
    "        if court == \"Supreme Court\": # change path here: can be changed to High court data as well\n",
    "            for year in os.listdir(path+\"/\"+court):\n",
    "                if year == \".DS_Store\":\n",
    "                    continue\n",
    "                if int(year) >= int(\"1947\"): # modified from if int(year)>=int(\"2000\")  to if int(year)>=int(\"1800\")\n",
    "                    for month in os.listdir(path+\"/\"+court+\"/\"+year):\n",
    "                        if month == \".DS_Store\":\n",
    "                            continue\n",
    "                        for case in os.listdir(path+\"/\"+court+\"/\"+year+\"/\"+month):\n",
    "                            if case.endswith(\".json\"):\n",
    "                                with open(path+\"/\"+court+\"/\"+year+\"/\"+month+\"/\"+case,\"r\",encoding=\"utf-8\") as o:\n",
    "                                    caseinfo = json.load(o)\n",
    "\n",
    "                                # update judge name and ID    \n",
    "                                if caseinfo['judge'][0]['name'] != 'JUDGMENT:' or caseinfo['judge'][0]['name'] != 'JUDGEMENT:' or caseinfo['judge'][0]['name'] != '0':                                   \n",
    "                                    \n",
    "                                    # if judge name exists\n",
    "                                    judge_name = caseinfo['judge'][0]['name'].strip()\n",
    "                                    ind = judge_name.find(\",\")\n",
    "                                    judge_name = judge_name[:ind]\n",
    "                                    \n",
    "                                    if judge_name in judgeinfo.keys():\n",
    "                                        for j in judgeinfo[judge_name]:\n",
    "                                            caseinfo['judge'][0]['name'] = j\n",
    "                                            caseinfo['judge'][0]['id'] = judge_ids.get(j)\n",
    "\n",
    "                                # update bench name and ID\n",
    "                                if caseinfo['bench'] != '0':                                    \n",
    "                                    for bench in caseinfo['bench']:\n",
    "                                        if bench['id']== '0':\n",
    "                                            for k,v in benchinfo.items():\n",
    "                                                if k == \"Empty\":\n",
    "                                                    continue\n",
    "                                                if bench['name'].strip() in k:\n",
    "                                                    bench['name'] = v[0]\n",
    "                                                    bench['id'] = judge_ids.get(v[0])\n",
    "                                                # if bench name is already right    \n",
    "                                                elif(bench['name'].strip() in judge_ids.keys()):\n",
    "                                                    bench['id'] = judge_ids.get(bench['name'].strip())\n",
    "                               \n",
    "                                    \n",
    "                                with open(path+\"/\"+court+\"/\"+year+\"/\"+month+\"/\"+case, \"w\") as outfile:\n",
    "                                    json.dump(caseinfo, outfile, indent=4)\n",
    "                                    "
   ]
  },
  {
   "cell_type": "code",
   "execution_count": null,
   "metadata": {},
   "outputs": [],
   "source": []
  },
  {
   "cell_type": "code",
   "execution_count": null,
   "metadata": {},
   "outputs": [],
   "source": []
  },
  {
   "cell_type": "code",
   "execution_count": null,
   "metadata": {},
   "outputs": [],
   "source": []
  }
 ],
 "metadata": {
  "kernelspec": {
   "display_name": "Python 3",
   "language": "python",
   "name": "python3"
  },
  "language_info": {
   "codemirror_mode": {
    "name": "ipython",
    "version": 3
   },
   "file_extension": ".py",
   "mimetype": "text/x-python",
   "name": "python",
   "nbconvert_exporter": "python",
   "pygments_lexer": "ipython3",
   "version": "3.7.3"
  }
 },
 "nbformat": 4,
 "nbformat_minor": 4
}